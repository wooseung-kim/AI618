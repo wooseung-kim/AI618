{
 "cells": [
  {
   "cell_type": "code",
   "execution_count": 1,
   "metadata": {},
   "outputs": [],
   "source": [
    "import sys\n",
    "module_path = \"./MasaCtrl\"\n",
    "sys.path.append(module_path)\n",
    "\n"
   ]
  },
  {
   "cell_type": "code",
   "execution_count": 2,
   "metadata": {},
   "outputs": [
    {
     "name": "stderr",
     "output_type": "stream",
     "text": [
      "/mnt/hdd/hbchoe/anaconda3/envs/sheeprl/lib/python3.9/site-packages/tqdm/auto.py:21: TqdmWarning: IProgress not found. Please update jupyter and ipywidgets. See https://ipywidgets.readthedocs.io/en/stable/user_install.html\n",
      "  from .autonotebook import tqdm as notebook_tqdm\n"
     ]
    }
   ],
   "source": [
    "import os\n",
    "import torch\n",
    "import torch.nn as nn\n",
    "import torch.nn.functional as F\n",
    "\n",
    "import numpy as np\n",
    "\n",
    "from tqdm import tqdm\n",
    "# from einops import rearrange, repeat\n",
    "from omegaconf import OmegaConf\n",
    "\n",
    "from diffusers import DDIMScheduler, ControlNetModel, StableDiffusionPipeline, StableDiffusionControlNetPipeline\n",
    "\n",
    "from MasaCtrl.masactrl.diffuser_utils import MasaCtrlPipeline, MasaCtrlControlNetPipeline\n",
    "from MasaCtrl.masactrl.masactrl_utils import AttentionBase\n",
    "from MasaCtrl.masactrl.masactrl_utils import regiter_attention_editor_diffusers\n",
    "from MasaCtrl.masactrl.masactrl import MutualSelfAttentionControl\n",
    "\n",
    "from torchvision.utils import save_image\n",
    "from torchvision.io import read_image\n",
    "from pytorch_lightning import seed_everything\n",
    "\n",
    "from torchvision.transforms import ToPILImage\n",
    "\n",
    "import glob\n",
    "\n",
    "torch.cuda.set_device(0)  # set the GPU device"
   ]
  },
  {
   "cell_type": "code",
   "execution_count": 3,
   "metadata": {},
   "outputs": [],
   "source": [
    "import sys\n",
    "import random\n",
    "import datetime as dt\n",
    "\n",
    "import numpy as np\n",
    "import torch\n",
    "\n",
    "seed = 42\n",
    "torch.manual_seed(seed)\n",
    "torch.cuda.manual_seed(seed)\n",
    "np.random.seed(seed)\n",
    "random.seed(seed)\n",
    "torch.backends.cudnn.deterministic = True"
   ]
  },
  {
   "cell_type": "code",
   "execution_count": 4,
   "metadata": {},
   "outputs": [],
   "source": [
    "device = torch.device(\"cuda\") if torch.cuda.is_available() else torch.device(\"cpu\")\n",
    "\n",
    "start_code = torch.randn([1, 4, 64, 64], device=device)\n",
    "start_code_masa = start_code.expand(2, -1, -1, -1) # expand to batch size 2"
   ]
  },
  {
   "cell_type": "code",
   "execution_count": 5,
   "metadata": {},
   "outputs": [],
   "source": [
    "noun_list = [\"boy\", \"girl\", \"man\", \"woman\", \"child\", \n",
    " \"farmer\", \"soldier\", \"firefighter\", \"pirate\", \"basketball player\"]\n",
    "pose_list = [\"dancing\", \"flexing\", 'jumping', 'laying', 'tposing']"
   ]
  },
  {
   "cell_type": "code",
   "execution_count": 6,
   "metadata": {},
   "outputs": [],
   "source": [
    "import torch\n",
    "from diffusers import DDIMScheduler\n",
    "from p2p import Editor, CrossAttnCtrl\n",
    "from utils import image_grid, latent_to_image"
   ]
  },
  {
   "cell_type": "code",
   "execution_count": 9,
   "metadata": {},
   "outputs": [
    {
     "name": "stderr",
     "output_type": "stream",
     "text": [
      "/mnt/hdd/hbchoe/anaconda3/envs/sheeprl/lib/python3.9/site-packages/huggingface_hub/file_download.py:1142: FutureWarning: `resume_download` is deprecated and will be removed in version 1.0.0. Downloads always resume when possible. If you want to force a new download, use `force_download=True`.\n",
      "  warnings.warn(\n",
      "Cannot initialize model with low cpu memory usage because `accelerate` was not found in the environment. Defaulting to `low_cpu_mem_usage=False`. It is strongly recommended to install `accelerate` for faster and less memory-intense model loading. You can do so with: \n",
      "```\n",
      "pip install accelerate\n",
      "```\n",
      ".\n",
      "/mnt/hdd/hbchoe/anaconda3/envs/sheeprl/lib/python3.9/site-packages/diffusers/pipelines/stable_diffusion/pipeline_stable_diffusion.py:115: FutureWarning: The configuration file of this scheduler: DDIMScheduler {\n",
      "  \"_class_name\": \"DDIMScheduler\",\n",
      "  \"_diffusers_version\": \"0.16.0\",\n",
      "  \"beta_end\": 0.012,\n",
      "  \"beta_schedule\": \"scaled_linear\",\n",
      "  \"beta_start\": 0.00085,\n",
      "  \"clip_sample\": false,\n",
      "  \"clip_sample_range\": 1.0,\n",
      "  \"dynamic_thresholding_ratio\": 0.995,\n",
      "  \"num_train_timesteps\": 1000,\n",
      "  \"prediction_type\": \"epsilon\",\n",
      "  \"sample_max_value\": 1.0,\n",
      "  \"set_alpha_to_one\": false,\n",
      "  \"steps_offset\": 0,\n",
      "  \"thresholding\": false,\n",
      "  \"trained_betas\": null\n",
      "}\n",
      " is outdated. `steps_offset` should be set to 1 instead of 0. Please make sure to update the config accordingly as leaving `steps_offset` might led to incorrect results in future versions. If you have downloaded this checkpoint from the Hugging Face Hub, it would be very nice if you could open a Pull request for the `scheduler/scheduler_config.json` file\n",
      "  deprecate(\"steps_offset!=1\", \"1.0.0\", deprecation_message, standard_warn=False)\n",
      "/mnt/hdd/hbchoe/workspace/MasaCtrl/prompt_to_prompt/p2p.py:218: FutureWarning: Accessing config attribute `in_channels` directly via 'UNet2DConditionModel' object attribute is deprecated. Please access 'in_channels' over 'UNet2DConditionModel's config object instead, e.g. 'unet.config.in_channels'.\n",
      "  num_channels_latents = self.unet.in_channels\n",
      "100%|██████████| 50/50 [00:19<00:00,  2.55it/s]\n"
     ]
    },
    {
     "name": "stdout",
     "output_type": "stream",
     "text": [
      "Source prompt: highly detailed, boy, standing, facing camera, full body portrait, full-length portrait\n",
      "Edit prompt: highly detailed, boy, standing, facing camera, full body portrait, full-length portrait\n"
     ]
    },
    {
     "name": "stderr",
     "output_type": "stream",
     "text": [
      "100%|██████████| 50/50 [00:19<00:00,  2.53it/s]\n"
     ]
    },
    {
     "name": "stdout",
     "output_type": "stream",
     "text": [
      "Source prompt: highly detailed, boy, standing, facing camera, full body portrait, full-length portrait\n",
      "Edit prompt: highly detailed, boy, standing, facing camera, full body portrait, full-length portrait\n"
     ]
    },
    {
     "name": "stderr",
     "output_type": "stream",
     "text": [
      "100%|██████████| 50/50 [00:19<00:00,  2.52it/s]\n"
     ]
    },
    {
     "name": "stdout",
     "output_type": "stream",
     "text": [
      "Source prompt: highly detailed, boy, standing, facing camera, full body portrait, full-length portrait\n",
      "Edit prompt: highly detailed, boy, standing, facing camera, full body portrait, full-length portrait\n"
     ]
    },
    {
     "name": "stderr",
     "output_type": "stream",
     "text": [
      "100%|██████████| 50/50 [00:19<00:00,  2.51it/s]\n"
     ]
    },
    {
     "name": "stdout",
     "output_type": "stream",
     "text": [
      "Source prompt: highly detailed, boy, standing, facing camera, full body portrait, full-length portrait\n",
      "Edit prompt: highly detailed, boy, standing, facing camera, full body portrait, full-length portrait\n"
     ]
    },
    {
     "name": "stderr",
     "output_type": "stream",
     "text": [
      "100%|██████████| 50/50 [00:19<00:00,  2.51it/s]\n"
     ]
    },
    {
     "name": "stdout",
     "output_type": "stream",
     "text": [
      "Source prompt: highly detailed, boy, standing, facing camera, full body portrait, full-length portrait\n",
      "Edit prompt: highly detailed, boy, standing, facing camera, full body portrait, full-length portrait\n"
     ]
    },
    {
     "name": "stderr",
     "output_type": "stream",
     "text": [
      "100%|██████████| 50/50 [00:19<00:00,  2.50it/s]\n"
     ]
    },
    {
     "name": "stdout",
     "output_type": "stream",
     "text": [
      "Source prompt: highly detailed, girl, standing, facing camera, full body portrait, full-length portrait\n",
      "Edit prompt: highly detailed, girl, standing, facing camera, full body portrait, full-length portrait\n"
     ]
    },
    {
     "name": "stderr",
     "output_type": "stream",
     "text": [
      "100%|██████████| 50/50 [00:19<00:00,  2.51it/s]\n"
     ]
    },
    {
     "name": "stdout",
     "output_type": "stream",
     "text": [
      "Source prompt: highly detailed, girl, standing, facing camera, full body portrait, full-length portrait\n",
      "Edit prompt: highly detailed, girl, standing, facing camera, full body portrait, full-length portrait\n"
     ]
    },
    {
     "name": "stderr",
     "output_type": "stream",
     "text": [
      "100%|██████████| 50/50 [00:19<00:00,  2.51it/s]\n"
     ]
    },
    {
     "name": "stdout",
     "output_type": "stream",
     "text": [
      "Source prompt: highly detailed, girl, standing, facing camera, full body portrait, full-length portrait\n",
      "Edit prompt: highly detailed, girl, standing, facing camera, full body portrait, full-length portrait\n"
     ]
    },
    {
     "name": "stderr",
     "output_type": "stream",
     "text": [
      "100%|██████████| 50/50 [00:19<00:00,  2.51it/s]\n"
     ]
    },
    {
     "name": "stdout",
     "output_type": "stream",
     "text": [
      "Source prompt: highly detailed, girl, standing, facing camera, full body portrait, full-length portrait\n",
      "Edit prompt: highly detailed, girl, standing, facing camera, full body portrait, full-length portrait\n"
     ]
    },
    {
     "name": "stderr",
     "output_type": "stream",
     "text": [
      "100%|██████████| 50/50 [00:19<00:00,  2.51it/s]\n"
     ]
    },
    {
     "name": "stdout",
     "output_type": "stream",
     "text": [
      "Source prompt: highly detailed, girl, standing, facing camera, full body portrait, full-length portrait\n",
      "Edit prompt: highly detailed, girl, standing, facing camera, full body portrait, full-length portrait\n"
     ]
    },
    {
     "name": "stderr",
     "output_type": "stream",
     "text": [
      "100%|██████████| 50/50 [00:19<00:00,  2.51it/s]\n"
     ]
    },
    {
     "name": "stdout",
     "output_type": "stream",
     "text": [
      "Source prompt: highly detailed, man, standing, facing camera, full body portrait, full-length portrait\n",
      "Edit prompt: highly detailed, man, standing, facing camera, full body portrait, full-length portrait\n"
     ]
    },
    {
     "name": "stderr",
     "output_type": "stream",
     "text": [
      "100%|██████████| 50/50 [00:19<00:00,  2.51it/s]\n"
     ]
    },
    {
     "name": "stdout",
     "output_type": "stream",
     "text": [
      "Source prompt: highly detailed, man, standing, facing camera, full body portrait, full-length portrait\n",
      "Edit prompt: highly detailed, man, standing, facing camera, full body portrait, full-length portrait\n"
     ]
    },
    {
     "name": "stderr",
     "output_type": "stream",
     "text": [
      "100%|██████████| 50/50 [00:19<00:00,  2.51it/s]\n"
     ]
    },
    {
     "name": "stdout",
     "output_type": "stream",
     "text": [
      "Source prompt: highly detailed, man, standing, facing camera, full body portrait, full-length portrait\n",
      "Edit prompt: highly detailed, man, standing, facing camera, full body portrait, full-length portrait\n"
     ]
    },
    {
     "name": "stderr",
     "output_type": "stream",
     "text": [
      "100%|██████████| 50/50 [00:19<00:00,  2.51it/s]\n"
     ]
    },
    {
     "name": "stdout",
     "output_type": "stream",
     "text": [
      "Source prompt: highly detailed, man, standing, facing camera, full body portrait, full-length portrait\n",
      "Edit prompt: highly detailed, man, standing, facing camera, full body portrait, full-length portrait\n"
     ]
    },
    {
     "name": "stderr",
     "output_type": "stream",
     "text": [
      "100%|██████████| 50/50 [00:19<00:00,  2.51it/s]\n"
     ]
    },
    {
     "name": "stdout",
     "output_type": "stream",
     "text": [
      "Source prompt: highly detailed, man, standing, facing camera, full body portrait, full-length portrait\n",
      "Edit prompt: highly detailed, man, standing, facing camera, full body portrait, full-length portrait\n"
     ]
    },
    {
     "name": "stderr",
     "output_type": "stream",
     "text": [
      "100%|██████████| 50/50 [00:19<00:00,  2.50it/s]\n"
     ]
    },
    {
     "name": "stdout",
     "output_type": "stream",
     "text": [
      "Source prompt: highly detailed, woman, standing, facing camera, full body portrait, full-length portrait\n",
      "Edit prompt: highly detailed, woman, standing, facing camera, full body portrait, full-length portrait\n"
     ]
    },
    {
     "name": "stderr",
     "output_type": "stream",
     "text": [
      "100%|██████████| 50/50 [00:19<00:00,  2.51it/s]\n"
     ]
    },
    {
     "name": "stdout",
     "output_type": "stream",
     "text": [
      "Source prompt: highly detailed, woman, standing, facing camera, full body portrait, full-length portrait\n",
      "Edit prompt: highly detailed, woman, standing, facing camera, full body portrait, full-length portrait\n"
     ]
    },
    {
     "name": "stderr",
     "output_type": "stream",
     "text": [
      "100%|██████████| 50/50 [00:19<00:00,  2.50it/s]\n"
     ]
    },
    {
     "name": "stdout",
     "output_type": "stream",
     "text": [
      "Source prompt: highly detailed, woman, standing, facing camera, full body portrait, full-length portrait\n",
      "Edit prompt: highly detailed, woman, standing, facing camera, full body portrait, full-length portrait\n"
     ]
    },
    {
     "name": "stderr",
     "output_type": "stream",
     "text": [
      "100%|██████████| 50/50 [00:19<00:00,  2.51it/s]\n"
     ]
    },
    {
     "name": "stdout",
     "output_type": "stream",
     "text": [
      "Source prompt: highly detailed, woman, standing, facing camera, full body portrait, full-length portrait\n",
      "Edit prompt: highly detailed, woman, standing, facing camera, full body portrait, full-length portrait\n"
     ]
    },
    {
     "name": "stderr",
     "output_type": "stream",
     "text": [
      "100%|██████████| 50/50 [00:19<00:00,  2.50it/s]\n"
     ]
    },
    {
     "name": "stdout",
     "output_type": "stream",
     "text": [
      "Source prompt: highly detailed, woman, standing, facing camera, full body portrait, full-length portrait\n",
      "Edit prompt: highly detailed, woman, standing, facing camera, full body portrait, full-length portrait\n"
     ]
    },
    {
     "name": "stderr",
     "output_type": "stream",
     "text": [
      "100%|██████████| 50/50 [00:19<00:00,  2.51it/s]\n"
     ]
    },
    {
     "name": "stdout",
     "output_type": "stream",
     "text": [
      "Source prompt: highly detailed, child, standing, facing camera, full body portrait, full-length portrait\n",
      "Edit prompt: highly detailed, child, standing, facing camera, full body portrait, full-length portrait\n"
     ]
    },
    {
     "name": "stderr",
     "output_type": "stream",
     "text": [
      "100%|██████████| 50/50 [00:19<00:00,  2.50it/s]\n"
     ]
    },
    {
     "name": "stdout",
     "output_type": "stream",
     "text": [
      "Source prompt: highly detailed, child, standing, facing camera, full body portrait, full-length portrait\n",
      "Edit prompt: highly detailed, child, standing, facing camera, full body portrait, full-length portrait\n"
     ]
    },
    {
     "name": "stderr",
     "output_type": "stream",
     "text": [
      "100%|██████████| 50/50 [00:19<00:00,  2.51it/s]\n"
     ]
    },
    {
     "name": "stdout",
     "output_type": "stream",
     "text": [
      "Source prompt: highly detailed, child, standing, facing camera, full body portrait, full-length portrait\n",
      "Edit prompt: highly detailed, child, standing, facing camera, full body portrait, full-length portrait\n"
     ]
    },
    {
     "name": "stderr",
     "output_type": "stream",
     "text": [
      "100%|██████████| 50/50 [00:19<00:00,  2.51it/s]\n"
     ]
    },
    {
     "name": "stdout",
     "output_type": "stream",
     "text": [
      "Source prompt: highly detailed, child, standing, facing camera, full body portrait, full-length portrait\n",
      "Edit prompt: highly detailed, child, standing, facing camera, full body portrait, full-length portrait\n"
     ]
    },
    {
     "name": "stderr",
     "output_type": "stream",
     "text": [
      "100%|██████████| 50/50 [00:19<00:00,  2.51it/s]\n"
     ]
    },
    {
     "name": "stdout",
     "output_type": "stream",
     "text": [
      "Source prompt: highly detailed, child, standing, facing camera, full body portrait, full-length portrait\n",
      "Edit prompt: highly detailed, child, standing, facing camera, full body portrait, full-length portrait\n"
     ]
    },
    {
     "name": "stderr",
     "output_type": "stream",
     "text": [
      "100%|██████████| 50/50 [00:19<00:00,  2.51it/s]\n"
     ]
    },
    {
     "name": "stdout",
     "output_type": "stream",
     "text": [
      "Source prompt: highly detailed, farmer, standing, facing camera, full body portrait, full-length portrait\n",
      "Edit prompt: highly detailed, farmer, standing, facing camera, full body portrait, full-length portrait\n"
     ]
    },
    {
     "name": "stderr",
     "output_type": "stream",
     "text": [
      "100%|██████████| 50/50 [00:19<00:00,  2.50it/s]\n"
     ]
    },
    {
     "name": "stdout",
     "output_type": "stream",
     "text": [
      "Source prompt: highly detailed, farmer, standing, facing camera, full body portrait, full-length portrait\n",
      "Edit prompt: highly detailed, farmer, standing, facing camera, full body portrait, full-length portrait\n"
     ]
    },
    {
     "name": "stderr",
     "output_type": "stream",
     "text": [
      "100%|██████████| 50/50 [00:19<00:00,  2.50it/s]\n"
     ]
    },
    {
     "name": "stdout",
     "output_type": "stream",
     "text": [
      "Source prompt: highly detailed, farmer, standing, facing camera, full body portrait, full-length portrait\n",
      "Edit prompt: highly detailed, farmer, standing, facing camera, full body portrait, full-length portrait\n"
     ]
    },
    {
     "name": "stderr",
     "output_type": "stream",
     "text": [
      "100%|██████████| 50/50 [00:19<00:00,  2.51it/s]\n"
     ]
    },
    {
     "name": "stdout",
     "output_type": "stream",
     "text": [
      "Source prompt: highly detailed, farmer, standing, facing camera, full body portrait, full-length portrait\n",
      "Edit prompt: highly detailed, farmer, standing, facing camera, full body portrait, full-length portrait\n"
     ]
    },
    {
     "name": "stderr",
     "output_type": "stream",
     "text": [
      "100%|██████████| 50/50 [00:19<00:00,  2.51it/s]\n"
     ]
    },
    {
     "name": "stdout",
     "output_type": "stream",
     "text": [
      "Source prompt: highly detailed, farmer, standing, facing camera, full body portrait, full-length portrait\n",
      "Edit prompt: highly detailed, farmer, standing, facing camera, full body portrait, full-length portrait\n"
     ]
    },
    {
     "name": "stderr",
     "output_type": "stream",
     "text": [
      "100%|██████████| 50/50 [00:19<00:00,  2.50it/s]\n"
     ]
    },
    {
     "name": "stdout",
     "output_type": "stream",
     "text": [
      "Source prompt: highly detailed, soldier, standing, facing camera, full body portrait, full-length portrait\n",
      "Edit prompt: highly detailed, soldier, standing, facing camera, full body portrait, full-length portrait\n"
     ]
    },
    {
     "name": "stderr",
     "output_type": "stream",
     "text": [
      "100%|██████████| 50/50 [00:19<00:00,  2.51it/s]\n"
     ]
    },
    {
     "name": "stdout",
     "output_type": "stream",
     "text": [
      "Source prompt: highly detailed, soldier, standing, facing camera, full body portrait, full-length portrait\n",
      "Edit prompt: highly detailed, soldier, standing, facing camera, full body portrait, full-length portrait\n"
     ]
    },
    {
     "name": "stderr",
     "output_type": "stream",
     "text": [
      "100%|██████████| 50/50 [00:19<00:00,  2.50it/s]\n"
     ]
    },
    {
     "name": "stdout",
     "output_type": "stream",
     "text": [
      "Source prompt: highly detailed, soldier, standing, facing camera, full body portrait, full-length portrait\n",
      "Edit prompt: highly detailed, soldier, standing, facing camera, full body portrait, full-length portrait\n"
     ]
    },
    {
     "name": "stderr",
     "output_type": "stream",
     "text": [
      "100%|██████████| 50/50 [00:19<00:00,  2.50it/s]\n"
     ]
    },
    {
     "name": "stdout",
     "output_type": "stream",
     "text": [
      "Source prompt: highly detailed, soldier, standing, facing camera, full body portrait, full-length portrait\n",
      "Edit prompt: highly detailed, soldier, standing, facing camera, full body portrait, full-length portrait\n"
     ]
    },
    {
     "name": "stderr",
     "output_type": "stream",
     "text": [
      "100%|██████████| 50/50 [00:19<00:00,  2.50it/s]\n"
     ]
    },
    {
     "name": "stdout",
     "output_type": "stream",
     "text": [
      "Source prompt: highly detailed, soldier, standing, facing camera, full body portrait, full-length portrait\n",
      "Edit prompt: highly detailed, soldier, standing, facing camera, full body portrait, full-length portrait\n"
     ]
    },
    {
     "name": "stderr",
     "output_type": "stream",
     "text": [
      "100%|██████████| 50/50 [00:19<00:00,  2.50it/s]\n"
     ]
    },
    {
     "name": "stdout",
     "output_type": "stream",
     "text": [
      "Source prompt: highly detailed, firefighter, standing, facing camera, full body portrait, full-length portrait\n",
      "Edit prompt: highly detailed, firefighter, standing, facing camera, full body portrait, full-length portrait\n"
     ]
    },
    {
     "name": "stderr",
     "output_type": "stream",
     "text": [
      "100%|██████████| 50/50 [00:19<00:00,  2.50it/s]\n"
     ]
    },
    {
     "name": "stdout",
     "output_type": "stream",
     "text": [
      "Source prompt: highly detailed, firefighter, standing, facing camera, full body portrait, full-length portrait\n",
      "Edit prompt: highly detailed, firefighter, standing, facing camera, full body portrait, full-length portrait\n"
     ]
    },
    {
     "name": "stderr",
     "output_type": "stream",
     "text": [
      "100%|██████████| 50/50 [00:19<00:00,  2.50it/s]\n"
     ]
    },
    {
     "name": "stdout",
     "output_type": "stream",
     "text": [
      "Source prompt: highly detailed, firefighter, standing, facing camera, full body portrait, full-length portrait\n",
      "Edit prompt: highly detailed, firefighter, standing, facing camera, full body portrait, full-length portrait\n"
     ]
    },
    {
     "name": "stderr",
     "output_type": "stream",
     "text": [
      "100%|██████████| 50/50 [00:19<00:00,  2.50it/s]\n"
     ]
    },
    {
     "name": "stdout",
     "output_type": "stream",
     "text": [
      "Source prompt: highly detailed, firefighter, standing, facing camera, full body portrait, full-length portrait\n",
      "Edit prompt: highly detailed, firefighter, standing, facing camera, full body portrait, full-length portrait\n"
     ]
    },
    {
     "name": "stderr",
     "output_type": "stream",
     "text": [
      "100%|██████████| 50/50 [00:20<00:00,  2.50it/s]\n"
     ]
    },
    {
     "name": "stdout",
     "output_type": "stream",
     "text": [
      "Source prompt: highly detailed, firefighter, standing, facing camera, full body portrait, full-length portrait\n",
      "Edit prompt: highly detailed, firefighter, standing, facing camera, full body portrait, full-length portrait\n"
     ]
    },
    {
     "name": "stderr",
     "output_type": "stream",
     "text": [
      "100%|██████████| 50/50 [00:19<00:00,  2.50it/s]\n"
     ]
    },
    {
     "name": "stdout",
     "output_type": "stream",
     "text": [
      "Source prompt: highly detailed, pirate, standing, facing camera, full body portrait, full-length portrait\n",
      "Edit prompt: highly detailed, pirate, standing, facing camera, full body portrait, full-length portrait\n"
     ]
    },
    {
     "name": "stderr",
     "output_type": "stream",
     "text": [
      "100%|██████████| 50/50 [00:19<00:00,  2.51it/s]\n"
     ]
    },
    {
     "name": "stdout",
     "output_type": "stream",
     "text": [
      "Source prompt: highly detailed, pirate, standing, facing camera, full body portrait, full-length portrait\n",
      "Edit prompt: highly detailed, pirate, standing, facing camera, full body portrait, full-length portrait\n"
     ]
    },
    {
     "name": "stderr",
     "output_type": "stream",
     "text": [
      "100%|██████████| 50/50 [00:19<00:00,  2.50it/s]\n"
     ]
    },
    {
     "name": "stdout",
     "output_type": "stream",
     "text": [
      "Source prompt: highly detailed, pirate, standing, facing camera, full body portrait, full-length portrait\n",
      "Edit prompt: highly detailed, pirate, standing, facing camera, full body portrait, full-length portrait\n"
     ]
    },
    {
     "name": "stderr",
     "output_type": "stream",
     "text": [
      "100%|██████████| 50/50 [00:19<00:00,  2.51it/s]\n"
     ]
    },
    {
     "name": "stdout",
     "output_type": "stream",
     "text": [
      "Source prompt: highly detailed, pirate, standing, facing camera, full body portrait, full-length portrait\n",
      "Edit prompt: highly detailed, pirate, standing, facing camera, full body portrait, full-length portrait\n"
     ]
    },
    {
     "name": "stderr",
     "output_type": "stream",
     "text": [
      "100%|██████████| 50/50 [00:19<00:00,  2.51it/s]\n"
     ]
    },
    {
     "name": "stdout",
     "output_type": "stream",
     "text": [
      "Source prompt: highly detailed, pirate, standing, facing camera, full body portrait, full-length portrait\n",
      "Edit prompt: highly detailed, pirate, standing, facing camera, full body portrait, full-length portrait\n"
     ]
    },
    {
     "name": "stderr",
     "output_type": "stream",
     "text": [
      "100%|██████████| 50/50 [00:19<00:00,  2.51it/s]\n"
     ]
    },
    {
     "name": "stdout",
     "output_type": "stream",
     "text": [
      "Source prompt: highly detailed, basketball player, standing, facing camera, full body portrait, full-length portrait\n",
      "Edit prompt: highly detailed, basketball player, standing, facing camera, full body portrait, full-length portrait\n"
     ]
    },
    {
     "name": "stderr",
     "output_type": "stream",
     "text": [
      "100%|██████████| 50/50 [00:19<00:00,  2.51it/s]\n"
     ]
    },
    {
     "name": "stdout",
     "output_type": "stream",
     "text": [
      "Source prompt: highly detailed, basketball player, standing, facing camera, full body portrait, full-length portrait\n",
      "Edit prompt: highly detailed, basketball player, standing, facing camera, full body portrait, full-length portrait\n"
     ]
    },
    {
     "name": "stderr",
     "output_type": "stream",
     "text": [
      "100%|██████████| 50/50 [00:19<00:00,  2.51it/s]\n"
     ]
    },
    {
     "name": "stdout",
     "output_type": "stream",
     "text": [
      "Source prompt: highly detailed, basketball player, standing, facing camera, full body portrait, full-length portrait\n",
      "Edit prompt: highly detailed, basketball player, standing, facing camera, full body portrait, full-length portrait\n"
     ]
    },
    {
     "name": "stderr",
     "output_type": "stream",
     "text": [
      "100%|██████████| 50/50 [00:19<00:00,  2.50it/s]\n"
     ]
    },
    {
     "name": "stdout",
     "output_type": "stream",
     "text": [
      "Source prompt: highly detailed, basketball player, standing, facing camera, full body portrait, full-length portrait\n",
      "Edit prompt: highly detailed, basketball player, standing, facing camera, full body portrait, full-length portrait\n"
     ]
    },
    {
     "name": "stderr",
     "output_type": "stream",
     "text": [
      "100%|██████████| 50/50 [00:19<00:00,  2.50it/s]\n"
     ]
    },
    {
     "name": "stdout",
     "output_type": "stream",
     "text": [
      "Source prompt: highly detailed, basketball player, standing, facing camera, full body portrait, full-length portrait\n",
      "Edit prompt: highly detailed, basketball player, standing, facing camera, full body portrait, full-length portrait\n"
     ]
    },
    {
     "name": "stderr",
     "output_type": "stream",
     "text": [
      "100%|██████████| 50/50 [00:19<00:00,  2.50it/s]\n"
     ]
    }
   ],
   "source": [
    "pose_path = \"/mnt/hdd/hbchoe/workspace/MasaCtrl/sampling/pose_selected\"\n",
    "source_path = \"/mnt/hdd/hbchoe/workspace/MasaCtrl/sampling/p2p/source\"\n",
    "edit_path = \"/mnt/hdd/hbchoe/workspace/MasaCtrl/sampling/p2p/edit\"\n",
    "\n",
    "# model initialization\n",
    "model_path = \"stable-diffusion-v1-5/stable-diffusion-v1-5\"\n",
    "scheduler = DDIMScheduler(beta_start=0.00085, beta_end=0.012, beta_schedule=\"scaled_linear\", clip_sample=False, set_alpha_to_one=False)\n",
    "# controlnet = ControlNetModel.from_pretrained(\"lllyasviel/sd-controlnet-openpose\")\n",
    "# model = StableDiffusionPipeline.from_pretrained(model_path, controlnet=controlnet, scheduler=scheduler, safety_checker=None, cross_attention_kwargs={\"scale\": 0.5}).to(device)\n",
    "\n",
    "\n",
    "SD = Editor.from_pretrained(\n",
    "    model_path, scheduler=scheduler, torch_dtype=torch.float32,\n",
    "    cache_dir='.', processor=CrossAttnCtrl(),\n",
    ").to(device)\n",
    "\n",
    "# images = SD(\n",
    "#     prompt=prompts, prompt_target=prompts_edit, latents=start_code, \n",
    "#     num_inference_steps=50,\n",
    "# ).images\n",
    "\n",
    "# images[0].save(f'{source_path}/prompt.png')\n",
    "# images[1].save(f'{edit_path}/prompt.png')\n",
    "\n",
    "\n",
    "for noun in noun_list:    \n",
    "    for pose in pose_list:\n",
    "        prompts = f\"highly detailed, {noun}, standing, facing camera, full body portrait, full-length portrait\"\n",
    "        print(f\"Source prompt: {prompts}\")\n",
    "\n",
    "        prompts_edit = f\"highly detailed, {noun}, {pose}, facing camera, full body portrait, full-length portrait\"\n",
    "        print(f\"Edit prompt: {prompts}\")\n",
    "\n",
    "        images = SD(\n",
    "            prompt=prompts, prompt_target=prompts_edit, latents=start_code, \n",
    "            num_inference_steps=50,\n",
    "        ).images\n",
    "\n",
    "        images[0].save(f'{source_path}/{noun}_{pose}.png')\n",
    "        images[1].save(f'{edit_path}/{noun}_{pose}.png')\n"
   ]
  }
 ],
 "metadata": {
  "kernelspec": {
   "display_name": "Masactrl2",
   "language": "python",
   "name": "python3"
  },
  "language_info": {
   "codemirror_mode": {
    "name": "ipython",
    "version": 3
   },
   "file_extension": ".py",
   "mimetype": "text/x-python",
   "name": "python",
   "nbconvert_exporter": "python",
   "pygments_lexer": "ipython3",
   "version": "3.9.21"
  }
 },
 "nbformat": 4,
 "nbformat_minor": 2
}
